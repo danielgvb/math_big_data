{
 "cells": [
  {
   "cell_type": "code",
   "execution_count": 6,
   "id": "f111b653-18ef-4bc8-914f-ba98a26add01",
   "metadata": {},
   "outputs": [],
   "source": [
    "import numpy as np\n",
    "import pandas as pd"
   ]
  },
  {
   "cell_type": "markdown",
   "id": "04e6b9ca-24ac-4da4-a509-75178b5a32ea",
   "metadata": {},
   "source": [
    "# 6.1 Power Method"
   ]
  },
  {
   "cell_type": "markdown",
   "id": "900ee445-146b-4f05-ae90-558ad199331d",
   "metadata": {},
   "source": [
    "Apply the power method (using the euclidean norm for scaling) to the matrix A, starting with x(0) and stopping at x(4). Compare the resulting approximations to the exact values of the dominant eigenvalue and the corresponding unit eigenvector"
   ]
  },
  {
   "cell_type": "markdown",
   "id": "bb8b5a50-5c57-4325-9168-ffb737e7ed98",
   "metadata": {},
   "source": [
    "$x^k = A x^{k-1}$\n",
    "\n",
    "\n",
    "$x^k = A^k x^{0}$"
   ]
  },
  {
   "cell_type": "code",
   "execution_count": 7,
   "id": "d01972b3-37a5-4d91-8d43-f503ba1c50ee",
   "metadata": {},
   "outputs": [
    {
     "data": {
      "text/plain": [
       "(2, 1)"
      ]
     },
     "execution_count": 7,
     "metadata": {},
     "output_type": "execute_result"
    }
   ],
   "source": [
    "A = np.array([[2,1],\n",
    "             [1,1]])\n",
    "x0 = np.array([[1],\n",
    "              [0]])\n",
    "x0.shape"
   ]
  },
  {
   "cell_type": "code",
   "execution_count": 8,
   "id": "44d98b06-e241-4f1a-9ce3-c32206ff136f",
   "metadata": {},
   "outputs": [
    {
     "data": {
      "text/plain": [
       "1.0"
      ]
     },
     "execution_count": 8,
     "metadata": {},
     "output_type": "execute_result"
    }
   ],
   "source": [
    "np.linalg.norm(x0)"
   ]
  },
  {
   "cell_type": "code",
   "execution_count": 9,
   "id": "b8a66a8c-5400-4734-a5ca-c4c4b347082a",
   "metadata": {},
   "outputs": [],
   "source": [
    "def simple_vector_iteration(A, x0, tol=1e-6, max_iter=1000):\n",
    "    # Initialize variables\n",
    "    x = x0\n",
    "    k = 0\n",
    "    \n",
    "    while True:\n",
    "        # Increment iteration counter\n",
    "        k += 1\n",
    "        \n",
    "        # Compute y^(k) = A * x^(k-1)\n",
    "        y = np.dot(A, x)\n",
    "        \n",
    "        # Compute the Euclidean norm mu_k = ||y^(k)||\n",
    "        mu = np.linalg.norm(y)\n",
    "        \n",
    "        # Compute the next iterate x^(k) = y^(k) / mu_k\n",
    "        x_next = y / mu\n",
    "        \n",
    "        # Check for convergence\n",
    "        if np.linalg.norm(x_next - x) < tol or k >= max_iter:\n",
    "            break\n",
    "        \n",
    "        # Update x for the next iteration\n",
    "        x = x_next\n",
    "        \n",
    "    return x, mu, k"
   ]
  },
  {
   "cell_type": "code",
   "execution_count": 10,
   "id": "b9ea5345-07ff-4c6c-b953-bb920f9b9849",
   "metadata": {},
   "outputs": [
    {
     "data": {
      "text/plain": [
       "array([[0.850798  ],\n",
       "       [0.52549288]])"
      ]
     },
     "execution_count": 10,
     "metadata": {},
     "output_type": "execute_result"
    }
   ],
   "source": [
    "x1,mu, k1 = simple_vector_iteration(A, x0, tol=1e-6, max_iter=1)\n",
    "x2,mu, k2 = simple_vector_iteration(A, x0, tol=1e-6, max_iter=2)\n",
    "x3,mu, k3 = simple_vector_iteration(A, x0, tol=1e-6, max_iter=3)\n",
    "x4,mu, k4 = simple_vector_iteration(A, x0, tol=1e-6, max_iter=4)\n",
    "x5,mu, k5 = simple_vector_iteration(A, x0, tol=1e-6, max_iter=5)\n",
    "\n",
    "x5"
   ]
  },
  {
   "cell_type": "code",
   "execution_count": 11,
   "id": "dc7a073e-125a-4ce6-ad28-7f00a2597cb0",
   "metadata": {},
   "outputs": [
    {
     "data": {
      "text/plain": [
       "array([[0.85165832],\n",
       "       [0.52409743]])"
      ]
     },
     "execution_count": 11,
     "metadata": {},
     "output_type": "execute_result"
    }
   ],
   "source": [
    "x4,mu, k4 = simple_vector_iteration(A, x0, tol=1e-6, max_iter=4)\n",
    "x4"
   ]
  },
  {
   "cell_type": "markdown",
   "id": "17b5e913-1e1c-4016-9138-21c08f821bd3",
   "metadata": {},
   "source": [
    "Exact eigenvalues:\n",
    "\n",
    "$ \\lambda_1 = \\frac{1}{2} (3 + \\sqrt{5}) = 2.61803$\n",
    "\n",
    "$ \\lambda_2 = \\frac{1}{2} (3 - \\sqrt{5}) = 0.381966$\n",
    "\n",
    "Eigenvectors\n",
    "\n",
    "$v_1 = (\\frac{1}{2}(1+\\sqrt{5}),1) = (1,611803,1)$\n",
    "\n",
    "$v_2 = (\\frac{1}{2}(1-\\sqrt{5}),1) = (-0.618034,1)$"
   ]
  },
  {
   "cell_type": "code",
   "execution_count": 12,
   "id": "c375c319-2f3e-41c3-afd5-70392f1f55f6",
   "metadata": {},
   "outputs": [
    {
     "name": "stdout",
     "output_type": "stream",
     "text": [
      "Exact dominant eigenvalue:\n",
      "2.618033988749895\n",
      "Exact dominant eigenvector:\n",
      "[0.85065081 0.52573111]\n",
      "Comparison of eigenvalues:\n",
      "Approximated: 2.61802926897674\n",
      "Exact: 2.618033988749895\n",
      "Comparison of eigenvectors:\n",
      "Approximated: [0.85165832 0.52409743]\n",
      "Exact: [0.85065081 0.52573111]\n"
     ]
    }
   ],
   "source": [
    "# Compute the exact eigenvalues and eigenvectors\n",
    "eigenvalues, eigenvectors = np.linalg.eig(A)\n",
    "\n",
    "# Identify the dominant eigenvalue and corresponding eigenvector\n",
    "dominant_index = np.argmax(np.abs(eigenvalues))\n",
    "dominant_eigenvalue = eigenvalues[dominant_index]\n",
    "dominant_eigenvector = eigenvectors[:, dominant_index]\n",
    "\n",
    "# Normalize the exact dominant eigenvector\n",
    "dominant_eigenvector = dominant_eigenvector / np.linalg.norm(dominant_eigenvector)\n",
    "\n",
    "print(\"Exact dominant eigenvalue:\")\n",
    "print(dominant_eigenvalue)\n",
    "print(\"Exact dominant eigenvector:\")\n",
    "print(dominant_eigenvector)\n",
    "\n",
    "# Compare the results\n",
    "print(\"Comparison of eigenvalues:\")\n",
    "print(f\"Approximated: {mu}\")\n",
    "print(f\"Exact: {dominant_eigenvalue}\")\n",
    "\n",
    "print(\"Comparison of eigenvectors:\")\n",
    "print(f\"Approximated: {x4.flatten()}\")\n",
    "print(f\"Exact: {dominant_eigenvector}\")"
   ]
  },
  {
   "cell_type": "markdown",
   "id": "6a5b99af-2c9b-4ca2-9983-8b725d015c4e",
   "metadata": {},
   "source": [
    "# 6.2 Pagerank"
   ]
  },
  {
   "cell_type": "markdown",
   "id": "7b86713c-ae98-40d0-8751-c950eca9c166",
   "metadata": {},
   "source": [
    "Compute the ranking of the following network using the transition matrix S as well as the modified Google matrix G (PageRank) introduced in the lecture. Which node is the most relevant?"
   ]
  },
  {
   "cell_type": "code",
   "execution_count": 36,
   "id": "2cfbf31f-90dd-44ef-ac44-2070fe402e26",
   "metadata": {},
   "outputs": [
    {
     "name": "stdout",
     "output_type": "stream",
     "text": [
      "Adjacency matrix A:\n",
      "[[0 1 0 0 0]\n",
      " [0 0 1 1 0]\n",
      " [1 0 0 0 0]\n",
      " [1 0 1 0 1]\n",
      " [1 1 1 0 0]]\n",
      "Degree matrix D:\n",
      "[[1 0 0 0 0]\n",
      " [0 2 0 0 0]\n",
      " [0 0 1 0 0]\n",
      " [0 0 0 3 0]\n",
      " [0 0 0 0 3]]\n"
     ]
    }
   ],
   "source": [
    "# Define the adjacency matrix A\n",
    "A = np.array([[0, 1, 0, 0,0],\n",
    "              [0, 0, 1, 1,0],\n",
    "              [1, 0, 0, 0,0],\n",
    "              [1, 0, 1, 0,1],\n",
    "              [1, 1, 1, 0,0]])\n",
    "\n",
    "# Calculate the degree of each node (sum of each row)\n",
    "degrees = np.sum(A, axis=1)\n",
    "\n",
    "# Construct the Degree matrix D\n",
    "D = np.diag(degrees)\n",
    "\n",
    "print(\"Adjacency matrix A:\")\n",
    "print(A)\n",
    "print(\"Degree matrix D:\")\n",
    "print(D)"
   ]
  },
  {
   "cell_type": "markdown",
   "id": "8db216e1-8ac6-44b1-a2c9-d18d57c3d950",
   "metadata": {},
   "source": [
    "### Pagerank with S"
   ]
  },
  {
   "cell_type": "code",
   "execution_count": 37,
   "id": "4526b2fe-c09a-4020-ac61-618cba4c57e0",
   "metadata": {},
   "outputs": [
    {
     "name": "stdout",
     "output_type": "stream",
     "text": [
      "Stochastic matrix S:\n",
      "[[0.         0.         1.         0.33333333 0.33333333]\n",
      " [1.         0.         0.         0.         0.33333333]\n",
      " [0.         0.5        0.         0.33333333 0.33333333]\n",
      " [0.         0.5        0.         0.         0.        ]\n",
      " [0.         0.         0.         0.33333333 0.        ]]\n",
      "PageRank vector:\n",
      "[0.25005105 0.32704757 0.15063612 0.19486271 0.07740255]\n",
      "The most important node is: 1\n"
     ]
    }
   ],
   "source": [
    "# Calculate the out-degree of each node (sum of each row)\n",
    "out_degrees = np.sum(A, axis=1)\n",
    "\n",
    "# Number of nodes\n",
    "n = A.shape[0]\n",
    "\n",
    "# Initialize the stochastic matrix S with zeros\n",
    "S = np.zeros_like(A, dtype=float)\n",
    "\n",
    "# Construct the stochastic matrix S\n",
    "for i in range(n):\n",
    "    for j in range(n):\n",
    "        if A[i, j] == 1:\n",
    "            S[j, i] = 1 / out_degrees[i]\n",
    "\n",
    "print(\"Stochastic matrix S:\")\n",
    "print(S)\n",
    "\n",
    "# Calculate the eigenvalues and eigenvectors\n",
    "eigenvalues, eigenvectors = np.linalg.eig(S)\n",
    "\n",
    "# Find the eigenvector corresponding to the eigenvalue 1\n",
    "# Due to numerical precision, we check for eigenvalues close to 1\n",
    "index = np.argmax(np.abs(eigenvalues - 1))\n",
    "dominant_eigenvector = np.abs(eigenvectors[:, index])\n",
    "\n",
    "# Normalize the dominant eigenvector to sum to 1\n",
    "pagerank_vector = dominant_eigenvector / np.sum(dominant_eigenvector)\n",
    "\n",
    "print(\"PageRank vector:\")\n",
    "print(pagerank_vector)\n",
    "\n",
    "# Determine the most important node\n",
    "most_important_node = np.argmax(pagerank_vector)\n",
    "print(f\"The most important node is: {most_important_node}\")"
   ]
  },
  {
   "cell_type": "code",
   "execution_count": 38,
   "id": "464a3eb2-9b88-4cbc-b018-a8268ea47461",
   "metadata": {},
   "outputs": [
    {
     "data": {
      "text/plain": [
       "array([1, 2, 1, 3, 3])"
      ]
     },
     "execution_count": 38,
     "metadata": {},
     "output_type": "execute_result"
    }
   ],
   "source": [
    "out_degrees"
   ]
  },
  {
   "cell_type": "code",
   "execution_count": 39,
   "id": "e4aafe98-0af8-43e9-a52f-252738b8c399",
   "metadata": {},
   "outputs": [
    {
     "data": {
      "text/plain": [
       "array([[1, 0, 0, 0, 0],\n",
       "       [0, 2, 0, 0, 0],\n",
       "       [0, 0, 1, 0, 0],\n",
       "       [0, 0, 0, 3, 0],\n",
       "       [0, 0, 0, 0, 3]])"
      ]
     },
     "execution_count": 39,
     "metadata": {},
     "output_type": "execute_result"
    }
   ],
   "source": [
    "D = np.diag(out_degrees)\n",
    "D"
   ]
  },
  {
   "cell_type": "code",
   "execution_count": 40,
   "id": "31c1ebc3-d3a3-48e2-a96c-27d99f4132d9",
   "metadata": {},
   "outputs": [
    {
     "data": {
      "text/plain": [
       "array([[0.        , 0.        , 1.        , 0.33333333, 0.33333333],\n",
       "       [1.        , 0.        , 0.        , 0.        , 0.33333333],\n",
       "       [0.        , 0.5       , 0.        , 0.33333333, 0.33333333],\n",
       "       [0.        , 0.5       , 0.        , 0.        , 0.        ],\n",
       "       [0.        , 0.        , 0.        , 0.33333333, 0.        ]])"
      ]
     },
     "execution_count": 40,
     "metadata": {},
     "output_type": "execute_result"
    }
   ],
   "source": [
    "A.T @ np.linalg.inv(D)"
   ]
  },
  {
   "cell_type": "code",
   "execution_count": 42,
   "id": "f3bb7ab7-274a-4850-93e1-e5d03a0b0012",
   "metadata": {},
   "outputs": [
    {
     "data": {
      "text/plain": [
       "array([0.57569264+0.j, 0.60955692+0.j, 0.44023555+0.j, 0.30477846+0.j,\n",
       "       0.10159282+0.j])"
      ]
     },
     "execution_count": 42,
     "metadata": {},
     "output_type": "execute_result"
    }
   ],
   "source": [
    "# Calculate the eigenvalues and eigenvectors\n",
    "eigenvalues, eigenvectors = np.linalg.eig(S)\n",
    "\n",
    "# Find the eigenvector corresponding to the eigenvalue 1\n",
    "# Due to numerical precision, we check for eigenvalues close to 1\n",
    "#index = np.argmax(np.abs(eigenvalues - 1))\n",
    "dominant_eigenvector = eigenvectors[:, 0]\n",
    "dominant_eigenvector\n",
    "#eigenvalues"
   ]
  },
  {
   "cell_type": "code",
   "execution_count": 43,
   "id": "c0da6989-d146-4985-b6cb-01d92072ea75",
   "metadata": {},
   "outputs": [
    {
     "data": {
      "text/plain": [
       "array([0.28333333+0.j, 0.3       +0.j, 0.21666667+0.j, 0.15      +0.j,\n",
       "       0.05      +0.j])"
      ]
     },
     "execution_count": 43,
     "metadata": {},
     "output_type": "execute_result"
    }
   ],
   "source": [
    "normalized_eigenvect = dominant_eigenvector / np.sum(dominant_eigenvector)\n",
    "normalized_eigenvect"
   ]
  },
  {
   "cell_type": "markdown",
   "id": "baaca0ac-9724-40bc-9267-1f807ff1cf00",
   "metadata": {},
   "source": [
    "### Pagerank with G"
   ]
  },
  {
   "cell_type": "code",
   "execution_count": 44,
   "id": "ffe70b90-7695-4808-ac83-2c56a2ea3b7c",
   "metadata": {},
   "outputs": [
    {
     "name": "stdout",
     "output_type": "stream",
     "text": [
      "PageRank vector:\n",
      "[0.27598951 0.28523133 0.21470952 0.15122311 0.07284652]\n",
      "The most important node is: 1\n"
     ]
    }
   ],
   "source": [
    "# Calculate the out-degree of each node (sum of each row)\n",
    "out_degrees = np.sum(A, axis=1)\n",
    "\n",
    "# Number of nodes\n",
    "n = A.shape[0]\n",
    "\n",
    "# Initialize the transition matrix S with zeros\n",
    "S = np.zeros_like(A, dtype=float)\n",
    "\n",
    "# Construct the transition matrix S\n",
    "for i in range(n):\n",
    "    if out_degrees[i] == 0:\n",
    "        S[i] = np.ones(n) / n  # Dangling node handling\n",
    "    else:\n",
    "        S[i] = A[i] / out_degrees[i]\n",
    "\n",
    "# Transpose to get the column-stochastic form\n",
    "S = S.T\n",
    "\n",
    "# Initialize the teleportation factor alpha\n",
    "alpha = 0.85\n",
    "\n",
    "# Create the Google matrix G\n",
    "G = alpha * S + (1 - alpha) / n * np.ones((n, n))\n",
    "\n",
    "# Initialize the PageRank vector with equal probability\n",
    "p = np.ones(n) / n\n",
    "\n",
    "# PageRank iteration\n",
    "tol = 1e-6  # tolerance for convergence\n",
    "max_iter = 100  # maximum number of iterations\n",
    "for i in range(max_iter):\n",
    "    p_new = np.dot(G, p)\n",
    "    if np.linalg.norm(p_new - p, ord=1) < tol:\n",
    "        break\n",
    "    p = p_new\n",
    "\n",
    "# Normalize the PageRank vector to ensure it sums to 1\n",
    "p = p / np.sum(p)\n",
    "\n",
    "print(\"PageRank vector:\")\n",
    "print(p)\n",
    "\n",
    "# Determine the most important node\n",
    "most_important_node = np.argmax(p)\n",
    "print(f\"The most important node is: {most_important_node}\")\n"
   ]
  },
  {
   "cell_type": "code",
   "execution_count": 67,
   "id": "b457cb3d-9415-4a3f-93ae-d824abbf983d",
   "metadata": {},
   "outputs": [
    {
     "data": {
      "text/plain": [
       "array([[0.        , 0.        , 1.        , 0.33333333, 0.33333333],\n",
       "       [1.        , 0.        , 0.        , 0.        , 0.33333333],\n",
       "       [0.        , 0.5       , 0.        , 0.33333333, 0.33333333],\n",
       "       [0.        , 0.5       , 0.        , 0.        , 0.        ],\n",
       "       [0.        , 0.        , 0.        , 0.33333333, 0.        ]])"
      ]
     },
     "execution_count": 67,
     "metadata": {},
     "output_type": "execute_result"
    }
   ],
   "source": [
    "S"
   ]
  },
  {
   "cell_type": "code",
   "execution_count": 68,
   "id": "8421be27-fa20-4490-9f24-c3f2bcb30f73",
   "metadata": {},
   "outputs": [
    {
     "data": {
      "text/plain": [
       "array([[0.03      , 0.03      , 0.88      , 0.31333333, 0.31333333],\n",
       "       [0.88      , 0.03      , 0.03      , 0.03      , 0.31333333],\n",
       "       [0.03      , 0.455     , 0.03      , 0.31333333, 0.31333333],\n",
       "       [0.03      , 0.455     , 0.03      , 0.03      , 0.03      ],\n",
       "       [0.03      , 0.03      , 0.03      , 0.31333333, 0.03      ]])"
      ]
     },
     "execution_count": 68,
     "metadata": {},
     "output_type": "execute_result"
    }
   ],
   "source": [
    "G"
   ]
  },
  {
   "cell_type": "code",
   "execution_count": 47,
   "id": "d5bd544b-b686-46d1-92e0-786d07211855",
   "metadata": {},
   "outputs": [
    {
     "data": {
      "text/plain": [
       "array([0.25005105, 0.32704757, 0.15063612, 0.19486271, 0.07740255])"
      ]
     },
     "execution_count": 47,
     "metadata": {},
     "output_type": "execute_result"
    }
   ],
   "source": [
    "# Calculate the eigenvalues and eigenvectors\n",
    "eigenvalues, eigenvectors = np.linalg.eig(G)\n",
    "\n",
    "# Find the eigenvector corresponding to the eigenvalue 1\n",
    "# Due to numerical precision, we check for eigenvalues close to 1\n",
    "index = np.argmax(np.abs(eigenvalues - 1))\n",
    "dominant_eigenvector = np.abs(eigenvectors[:, index])\n",
    "dominant_eigenvector\n",
    "normalized_eigenvector = dominant_eigenvector / np.sum(dominant_eigenvector)\n",
    "normalized_eigenvector"
   ]
  },
  {
   "cell_type": "markdown",
   "id": "5bea161e-9a2b-47db-bf0f-39f438443a32",
   "metadata": {},
   "source": [
    "### Implemented PageRank"
   ]
  },
  {
   "cell_type": "code",
   "execution_count": 48,
   "id": "90450e32-f663-428f-989f-6956f4efd2cb",
   "metadata": {},
   "outputs": [
    {
     "name": "stdout",
     "output_type": "stream",
     "text": [
      "PageRank scores:\n",
      "[0.27619728 0.28255309 0.21581353 0.15230502 0.07313109]\n",
      "The most important node is: 1\n"
     ]
    }
   ],
   "source": [
    "# Pagerank scikitnetwork\n",
    "from sknetwork.ranking import PageRank\n",
    "\n",
    "# Initialize PageRank with a damping factor (default is 0.85)\n",
    "pagerank = PageRank(damping_factor=0.85)\n",
    "\n",
    "# Compute the PageRank scores\n",
    "scores = pagerank.fit_predict(A)\n",
    "\n",
    "print(\"PageRank scores:\")\n",
    "print(scores)\n",
    "\n",
    "# Determine the most important node\n",
    "most_important_node = np.argmax(scores)\n",
    "print(f\"The most important node is: {most_important_node}\")"
   ]
  },
  {
   "cell_type": "markdown",
   "id": "100bd611-9a3d-4928-a3d9-5d4d3566ca2e",
   "metadata": {},
   "source": [
    "# 6.3 PageRank Influencers"
   ]
  },
  {
   "cell_type": "markdown",
   "id": "c259828a-bbec-44ce-918e-9be5c145db15",
   "metadata": {},
   "source": [
    "You are the sales manager of an online fashion trader and decide to hire a new social\n",
    "media influencer for your next advertising campaign.\n",
    "\n",
    "Thanks to your mathematical background you don’t want to hire the influencer with the\n",
    "highest number of followers but rather according to a criterion based on a popularity\n",
    "ranking similar to PageRank. You have the following data:\n",
    "\n",
    "* Influencer 1 likes his own Instagram account and the one of Influencer 2.\n",
    "* Influencer 2 likes the sites of Influencer 1 and 3.\n",
    "* Influencer 3 gives his likes to 2, 3 and 4.\n",
    "* Influencer 4 likes 1, 3 and 4."
   ]
  },
  {
   "cell_type": "markdown",
   "id": "3694d173-7f4f-48c3-a2ab-b122829fc57e",
   "metadata": {},
   "source": [
    "There are no differences between single likes, each like will be given the same weight.\n",
    "\n",
    "a) According to your model and your ranking, which influencer shall be hired?\n",
    "\n",
    "b) Looking at the transition matrix S you derived in a), would you expect the vector iteration\n",
    "\n",
    "$$\n",
    "x^{k+1} = Sx^k,  k = 0,1,2...\n",
    "$$\n",
    "to converge?"
   ]
  },
  {
   "cell_type": "code",
   "execution_count": 51,
   "id": "e1dc216f-285e-45bc-87b8-10d6a3f64d95",
   "metadata": {},
   "outputs": [
    {
     "name": "stdout",
     "output_type": "stream",
     "text": [
      "Adjacency matrix A:\n",
      "[[1 1 0 0]\n",
      " [1 0 1 0]\n",
      " [0 1 1 1]\n",
      " [1 0 1 1]]\n",
      "Degree matrix D:\n",
      "[[2 0 0 0]\n",
      " [0 2 0 0]\n",
      " [0 0 3 0]\n",
      " [0 0 0 3]]\n"
     ]
    }
   ],
   "source": [
    "# Define the adjacency matrix A\n",
    "A = np.array([[1,1,0,0],\n",
    "             [1,0,1,0],\n",
    "             [0,1,1,1],\n",
    "             [1,0,1,1]])\n",
    "\n",
    "# Calculate the degree of each node (sum of each row)\n",
    "degrees = np.sum(A, axis=1)\n",
    "\n",
    "# Construct the Degree matrix D\n",
    "D = np.diag(degrees)\n",
    "\n",
    "print(\"Adjacency matrix A:\")\n",
    "print(A)\n",
    "print(\"Degree matrix D:\")\n",
    "print(D)"
   ]
  },
  {
   "cell_type": "code",
   "execution_count": 55,
   "id": "31329a28-edfc-498b-8e03-926ca2b8f23c",
   "metadata": {},
   "outputs": [
    {
     "name": "stdout",
     "output_type": "stream",
     "text": [
      "Stochastic matrix S:\n",
      "[[0.5        0.5        0.         0.33333333]\n",
      " [0.5        0.         0.33333333 0.        ]\n",
      " [0.         0.5        0.33333333 0.33333333]\n",
      " [0.         0.         0.33333333 0.33333333]]\n",
      "PageRank vector:\n",
      "[0.34782609 0.26086957 0.26086957 0.13043478]\n",
      "The most important node is: 0\n",
      "EIGENVALUES: [-0.51983778  1.          0.23860452  0.44789993]\n"
     ]
    }
   ],
   "source": [
    "# Calculate the out-degree of each node (sum of each row)\n",
    "out_degrees = np.sum(A, axis=1)\n",
    "\n",
    "# Number of nodes\n",
    "n = A.shape[0]\n",
    "\n",
    "# Initialize the stochastic matrix S with zeros\n",
    "S = np.zeros_like(A, dtype=float)\n",
    "\n",
    "# Construct the stochastic matrix S\n",
    "for i in range(n):\n",
    "    for j in range(n):\n",
    "        if A[i, j] == 1:\n",
    "            S[j, i] = 1 / out_degrees[i]\n",
    "\n",
    "print(\"Stochastic matrix S:\")\n",
    "print(S)\n",
    "\n",
    "# Calculate the eigenvalues and eigenvectors\n",
    "eigenvalues, eigenvectors = np.linalg.eig(S)\n",
    "\n",
    "# Find the eigenvector corresponding to the eigenvalue 1\n",
    "# Due to numerical precision, we check for eigenvalues close to 1\n",
    "#index = np.argmax(np.abs(eigenvalues - 1))\n",
    "dominant_eigenvector = np.abs(eigenvectors[:, 1])\n",
    "\n",
    "# Normalize the dominant eigenvector to sum to 1\n",
    "pagerank_vector = dominant_eigenvector / np.sum(dominant_eigenvector)\n",
    "\n",
    "print(\"PageRank vector:\")\n",
    "print(pagerank_vector)\n",
    "\n",
    "# Determine the most important node\n",
    "most_important_node = np.argmax(pagerank_vector)\n",
    "print(f\"The most important node is: {most_important_node}\")\n",
    "\n",
    "print('EIGENVALUES:',eigenvalues)"
   ]
  },
  {
   "cell_type": "code",
   "execution_count": 53,
   "id": "b45f58ee-598f-485c-916a-a78025a2dbd9",
   "metadata": {},
   "outputs": [
    {
     "data": {
      "text/plain": [
       "array([0.4212969 , 0.72813897, 0.50359709, 0.19675502])"
      ]
     },
     "execution_count": 53,
     "metadata": {},
     "output_type": "execute_result"
    }
   ],
   "source": [
    "dominant_eigenvector"
   ]
  },
  {
   "cell_type": "code",
   "execution_count": 76,
   "id": "54b18f6e-d18d-4595-9db9-d27765bc4bc5",
   "metadata": {},
   "outputs": [
    {
     "name": "stdout",
     "output_type": "stream",
     "text": [
      "PageRank scores:\n",
      "[0.33198044 0.25326712 0.26308039 0.15167205]\n",
      "The most important node is: 0\n"
     ]
    }
   ],
   "source": [
    "from sknetwork.ranking import PageRank\n",
    "# Initialize PageRank with a damping factor (default is 0.85)\n",
    "pagerank = PageRank(damping_factor=0.88)\n",
    "\n",
    "# Compute the PageRank scores\n",
    "scores = pagerank.fit_predict(A)\n",
    "\n",
    "print(\"PageRank scores:\")\n",
    "print(scores)\n",
    "\n",
    "# Determine the most important node\n",
    "most_important_node = np.argmax(scores)\n",
    "print(f\"The most important node is: {most_important_node}\")"
   ]
  },
  {
   "cell_type": "markdown",
   "id": "4a19d94d-342f-44ef-8b49-2b14ed7bd69c",
   "metadata": {},
   "source": [
    "### Try the power iteration on this model"
   ]
  },
  {
   "cell_type": "code",
   "execution_count": 77,
   "id": "7cd64994-d906-412a-a882-4a198eef6929",
   "metadata": {},
   "outputs": [
    {
     "name": "stdout",
     "output_type": "stream",
     "text": [
      "Stochastic matrix S:\n",
      "[[0.         0.33333333 0.33333333 0.        ]\n",
      " [0.5        0.         0.33333333 0.5       ]\n",
      " [0.5        0.33333333 0.         0.5       ]\n",
      " [0.         0.33333333 0.33333333 0.        ]]\n",
      "PageRank vector:\n",
      "[0.20000012 0.29999988 0.29999988 0.20000012]\n",
      "The most important node is: 1\n"
     ]
    }
   ],
   "source": [
    "import numpy as np\n",
    "\n",
    "# Pagerank function\n",
    "def pagerank(A, tol=1e-6, max_iter=1000):\n",
    "    # Calculate the out-degree of each node (sum of each row)\n",
    "    out_degrees = np.sum(A, axis=1)\n",
    "\n",
    "    # Number of nodes\n",
    "    n = A.shape[0]\n",
    "\n",
    "    # Initialize the stochastic matrix S with zeros\n",
    "    S = np.zeros_like(A, dtype=float)\n",
    "\n",
    "    # Construct the stochastic matrix S\n",
    "    for i in range(n):\n",
    "        for j in range(n):\n",
    "            if A[i, j] == 1:\n",
    "                S[j, i] = 1 / out_degrees[i]\n",
    "\n",
    "    print(\"Stochastic matrix S:\")\n",
    "    print(S)\n",
    "\n",
    "    # Initialize x0 as a vector where all entries are equal and sum to 1\n",
    "    x0 = np.ones(n) / n\n",
    "\n",
    "    # Vector iteration method\n",
    "    x, mu, k = simple_vector_iteration(S, x0, tol, max_iter)\n",
    "\n",
    "    # Normalize the result to sum to 1\n",
    "    pagerank_vector = x / np.sum(x)\n",
    "\n",
    "    print(\"PageRank vector:\")\n",
    "    print(pagerank_vector)\n",
    "\n",
    "    # Determine the most important node\n",
    "    most_important_node = np.argmax(pagerank_vector)\n",
    "    print(f\"The most important node is: {most_important_node}\")\n",
    "\n",
    "    return pagerank_vector, most_important_node\n",
    "\n",
    "# Vector iteration method\n",
    "def simple_vector_iteration(A, x0, tol=1e-6, max_iter=1000):\n",
    "    # Initialize variables\n",
    "    x = x0\n",
    "    k = 0\n",
    "    \n",
    "    while True:\n",
    "        # Increment iteration counter\n",
    "        k += 1\n",
    "        \n",
    "        # Compute y^(k) = A * x^(k-1)\n",
    "        y = np.dot(A, x)\n",
    "        \n",
    "        # Compute the Euclidean norm mu_k = ||y^(k)||\n",
    "        mu = np.linalg.norm(y)\n",
    "        \n",
    "        # Compute the next iterate x^(k) = y^(k) / mu_k\n",
    "        x_next = y / mu\n",
    "        \n",
    "        # Check for convergence\n",
    "        if np.linalg.norm(x_next - x) < tol or k >= max_iter:\n",
    "            break\n",
    "        \n",
    "        # Update x for the next iteration\n",
    "        x = x_next\n",
    "        \n",
    "    return x, mu, k\n",
    "\n",
    "# Example usage with an adjacency matrix A\n",
    "A = np.array([[0, 1, 1, 0],\n",
    "              [1, 0, 1, 1],\n",
    "              [1, 1, 0, 1],\n",
    "              [0, 1, 1, 0]])\n",
    "\n",
    "pagerank_vector, most_important_node = pagerank(A)\n"
   ]
  }
 ],
 "metadata": {
  "kernelspec": {
   "display_name": "Python 3 (ipykernel)",
   "language": "python",
   "name": "python3"
  },
  "language_info": {
   "codemirror_mode": {
    "name": "ipython",
    "version": 3
   },
   "file_extension": ".py",
   "mimetype": "text/x-python",
   "name": "python",
   "nbconvert_exporter": "python",
   "pygments_lexer": "ipython3",
   "version": "3.11.5"
  }
 },
 "nbformat": 4,
 "nbformat_minor": 5
}
