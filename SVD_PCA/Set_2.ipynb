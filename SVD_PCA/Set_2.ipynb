{
 "cells": [
  {
   "cell_type": "code",
   "execution_count": 2,
   "id": "96440228-ae51-4fdb-a5ea-4333b40eef63",
   "metadata": {},
   "outputs": [],
   "source": [
    "import numpy as np"
   ]
  },
  {
   "cell_type": "markdown",
   "id": "9014efb2-eed6-4591-a0dd-e4e4920aa5de",
   "metadata": {},
   "source": [
    "# 2.1\n",
    "-------------------------------------"
   ]
  },
  {
   "cell_type": "code",
   "execution_count": 3,
   "id": "2cb3e594-6121-421a-adad-61bdb1b709cd",
   "metadata": {},
   "outputs": [],
   "source": [
    "A = np.array([[1,0,1],\n",
    "             [-1,1,0]])\n",
    "\n",
    "# Perform SVD\n",
    "U, S, VT = np.linalg.svd(A, full_matrices=True)"
   ]
  },
  {
   "cell_type": "code",
   "execution_count": 4,
   "id": "751fd049-36f6-49b8-876c-946725a694cf",
   "metadata": {},
   "outputs": [
    {
     "name": "stdout",
     "output_type": "stream",
     "text": [
      "U\n",
      "[[ 0.70710678  0.70710678]\n",
      " [-0.70710678  0.70710678]]\n",
      "Sigma\n",
      "[[1.73205081 0.        ]\n",
      " [0.         1.        ]]\n",
      "Adjusted VT where VT[2,2] is negative:\n",
      "[[ 8.16496581e-01 -4.08248290e-01  4.08248290e-01]\n",
      " [-4.40677305e-16  7.07106781e-01  7.07106781e-01]\n",
      " [ 5.77350269e-01  5.77350269e-01 -5.77350269e-01]]\n"
     ]
    }
   ],
   "source": [
    "# Adjust VT to have a negative element at VT[2,2]\n",
    "if VT[2, 2] >= 0:\n",
    "    VT[2, :] *= -1\n",
    "\n",
    "# S will remain unchanged as it's the diagonal matrix of singular values\n",
    "\n",
    "# Print adjusted matrices\n",
    "print(\"U\")\n",
    "print(U)\n",
    "print(\"Sigma\")\n",
    "diagonal_S = np.diag(S)\n",
    "print(diagonal_S)\n",
    "print(\"Adjusted VT where VT[2,2] is negative:\")\n",
    "print(VT)"
   ]
  },
  {
   "cell_type": "code",
   "execution_count": 46,
   "id": "19e6ae6f-39dd-4347-88f8-efe56abfd7ea",
   "metadata": {},
   "outputs": [
    {
     "data": {
      "text/html": [
       "<div>\n",
       "<style scoped>\n",
       "    .dataframe tbody tr th:only-of-type {\n",
       "        vertical-align: middle;\n",
       "    }\n",
       "\n",
       "    .dataframe tbody tr th {\n",
       "        vertical-align: top;\n",
       "    }\n",
       "\n",
       "    .dataframe thead th {\n",
       "        text-align: right;\n",
       "    }\n",
       "</style>\n",
       "<table border=\"1\" class=\"dataframe\">\n",
       "  <thead>\n",
       "    <tr style=\"text-align: right;\">\n",
       "      <th></th>\n",
       "      <th>0</th>\n",
       "      <th>1</th>\n",
       "      <th>2</th>\n",
       "    </tr>\n",
       "  </thead>\n",
       "  <tbody>\n",
       "    <tr>\n",
       "      <th>0</th>\n",
       "      <td>8.164966e-01</td>\n",
       "      <td>-0.408248</td>\n",
       "      <td>0.408248</td>\n",
       "    </tr>\n",
       "    <tr>\n",
       "      <th>1</th>\n",
       "      <td>-4.406773e-16</td>\n",
       "      <td>0.707107</td>\n",
       "      <td>0.707107</td>\n",
       "    </tr>\n",
       "    <tr>\n",
       "      <th>2</th>\n",
       "      <td>5.773503e-01</td>\n",
       "      <td>0.577350</td>\n",
       "      <td>-0.577350</td>\n",
       "    </tr>\n",
       "  </tbody>\n",
       "</table>\n",
       "</div>"
      ],
      "text/plain": [
       "              0         1         2\n",
       "0  8.164966e-01 -0.408248  0.408248\n",
       "1 -4.406773e-16  0.707107  0.707107\n",
       "2  5.773503e-01  0.577350 -0.577350"
      ]
     },
     "execution_count": 46,
     "metadata": {},
     "output_type": "execute_result"
    }
   ],
   "source": [
    "import pandas as pd\n",
    "df_vt = pd.DataFrame(VT)\n",
    "df_vt"
   ]
  },
  {
   "cell_type": "code",
   "execution_count": 39,
   "id": "db45cbf8-b60a-4dd8-9d88-280f0002f49b",
   "metadata": {},
   "outputs": [
    {
     "name": "stdout",
     "output_type": "stream",
     "text": [
      "Spectral Norm of A: 1.732050807568877\n",
      "Frobenius Norm of A: 1.9999999999999998\n"
     ]
    }
   ],
   "source": [
    "# Compute the Spectral Norm (maximum singular value)\n",
    "spectral_norm = np.max(S)\n",
    "\n",
    "# Compute the Frobenius Norm (square root of sum of squares of the singular values)\n",
    "frobenius_norm = np.sqrt(np.sum(S**2))\n",
    "\n",
    "print(f\"Spectral Norm of A: {spectral_norm}\")\n",
    "print(f\"Frobenius Norm of A: {frobenius_norm}\")"
   ]
  },
  {
   "cell_type": "code",
   "execution_count": 21,
   "id": "f4d60b3b-4ccd-4b0b-9384-6d1f355719e0",
   "metadata": {},
   "outputs": [
    {
     "name": "stdout",
     "output_type": "stream",
     "text": [
      "Rank-1 approximation of A:\n",
      "[[ 1.  -0.5  0.5]\n",
      " [-1.   0.5 -0.5]]\n"
     ]
    }
   ],
   "source": [
    "# Get the first singular value, and the first left and right singular vectors\n",
    "sigma1 = S[0]\n",
    "u1 = U[:, 0]\n",
    "v1 = VT[0, :]\n",
    "\n",
    "# Compute the rank-1 approximation of A\n",
    "A1 = sigma1 * np.outer(u1, v1)\n",
    "\n",
    "print(\"Rank-1 approximation of A:\")\n",
    "print(A1)"
   ]
  },
  {
   "cell_type": "code",
   "execution_count": null,
   "id": "93849e81-6d8e-470d-a46e-7b729f1aac87",
   "metadata": {},
   "outputs": [],
   "source": []
  },
  {
   "cell_type": "markdown",
   "id": "46ddd1ab-353f-4565-983c-9039eb974e47",
   "metadata": {},
   "source": [
    "# 2.2\n",
    "----------------------------------------------"
   ]
  },
  {
   "cell_type": "code",
   "execution_count": 5,
   "id": "99785e6c-d577-4539-afe9-e7bbf6bae1de",
   "metadata": {},
   "outputs": [],
   "source": [
    "A = np.array([[-2,11],\n",
    "             [-10,5]])"
   ]
  },
  {
   "cell_type": "markdown",
   "id": "ec1946f8-2155-4531-9929-98ff23ba4c7f",
   "metadata": {},
   "source": [
    "We define the matrix $A$ as follows:\n",
    "\n",
    "$$\n",
    "A = \\begin{bmatrix}\n",
    "    -2 & 11 \\\\\n",
    "    -10 & 5\n",
    "\\end{bmatrix}$$"
   ]
  },
  {
   "cell_type": "markdown",
   "id": "71acaaaf-744e-44b1-a675-12a4ca35ddcc",
   "metadata": {},
   "source": [
    "The singular value decomposition would be:\n",
    "$$\n",
    "U = \\begin{bmatrix}\n",
    "    \\frac{1}{\\sqrt{2}} & \\frac{1}{\\sqrt{2}} \\\\\n",
    "    \\frac{1}{\\sqrt{2}} & -\\frac{1}{\\sqrt{2}}\\end{bmatrix}\n",
    "$$"
   ]
  },
  {
   "cell_type": "markdown",
   "id": "26167d33-3835-4f01-8a1d-58b3b617cc11",
   "metadata": {},
   "source": [
    "$$\n",
    "\\Sigma = \\begin{bmatrix}\n",
    "    10\\sqrt{2} & 0 \\\\\n",
    "    0 & 5\\sqrt{2}\n",
    "\\end{bmatrix}\n",
    "$$"
   ]
  },
  {
   "cell_type": "markdown",
   "id": "f510e3d4-c478-45c4-8cfc-5857e1c3eb14",
   "metadata": {},
   "source": [
    "$$\n",
    "V = \\begin{bmatrix}\n",
    "    -\\frac{3}{5} & \\frac{4}{5} \\\\\n",
    "    \\frac{4}{5} & \\frac{3}{5}\n",
    "\\end{bmatrix}\n",
    "$$"
   ]
  },
  {
   "cell_type": "code",
   "execution_count": 6,
   "id": "ba54241f-4b64-4ef7-8cf0-7f7c3c9e2730",
   "metadata": {},
   "outputs": [
    {
     "name": "stdout",
     "output_type": "stream",
     "text": [
      "[[ 0.05 -0.11]\n",
      " [ 0.1  -0.02]]\n"
     ]
    }
   ],
   "source": [
    "# Calculate the inverse of the matrix\n",
    "A_inv = np.linalg.inv(A)\n",
    "\n",
    "# Print the inverse\n",
    "print(A_inv)"
   ]
  },
  {
   "cell_type": "code",
   "execution_count": 56,
   "id": "11a1505d-e13b-4941-84c1-68f938a583da",
   "metadata": {},
   "outputs": [
    {
     "name": "stdout",
     "output_type": "stream",
     "text": [
      "[1.5+9.88685997j 1.5-9.88685997j]\n"
     ]
    }
   ],
   "source": [
    "# Calculate the eigenvalues and eigenvectors of the matrix\n",
    "eigenvalues, eigenvectors = np.linalg.eig(A)\n",
    "\n",
    "# Print the eigenvalues\n",
    "print(eigenvalues)"
   ]
  },
  {
   "cell_type": "code",
   "execution_count": 57,
   "id": "fec21f67-695a-41f8-9d40-ac911fba2d5e",
   "metadata": {},
   "outputs": [
    {
     "data": {
      "text/plain": [
       "array([[0.72374686+0.j        , 0.72374686-0.j        ],\n",
       "       [0.23028309+0.65050763j, 0.23028309-0.65050763j]])"
      ]
     },
     "execution_count": 57,
     "metadata": {},
     "output_type": "execute_result"
    }
   ],
   "source": [
    "eigenvectors"
   ]
  },
  {
   "cell_type": "markdown",
   "id": "2f94b197-fa30-478c-8ea1-8a93b3fd8106",
   "metadata": {},
   "source": [
    "eigenvalues:\n",
    "$$\n",
    "\\lambda_{1} = \\frac{1}{2}(3 + i \\sqrt{391})\n",
    "$$\n",
    "\n",
    "$$\n",
    "\\lambda_{2} = \\frac{1}{2}(3- i \\sqrt{391})\n",
    "$$"
   ]
  },
  {
   "cell_type": "code",
   "execution_count": 58,
   "id": "531ce8a5-c1cd-42aa-9814-b11a31ff2384",
   "metadata": {},
   "outputs": [
    {
     "name": "stdout",
     "output_type": "stream",
     "text": [
      "Area of the ellipsoid: 314.1592653589792\n"
     ]
    }
   ],
   "source": [
    "# Perform SVD to get the singular values\n",
    "U, S, VT = np.linalg.svd(A)\n",
    "\n",
    "# The singular values are the lengths of the semi-axes of the ellipsoid\n",
    "sigma_1, sigma_2 = S\n",
    "\n",
    "# Calculate the area of the ellipsoid\n",
    "area_ellipsoid = np.pi * sigma_1 * sigma_2\n",
    "\n",
    "print(\"Area of the ellipsoid:\", area_ellipsoid)"
   ]
  }
 ],
 "metadata": {
  "kernelspec": {
   "display_name": "Python 3 (ipykernel)",
   "language": "python",
   "name": "python3"
  },
  "language_info": {
   "codemirror_mode": {
    "name": "ipython",
    "version": 3
   },
   "file_extension": ".py",
   "mimetype": "text/x-python",
   "name": "python",
   "nbconvert_exporter": "python",
   "pygments_lexer": "ipython3",
   "version": "3.11.5"
  }
 },
 "nbformat": 4,
 "nbformat_minor": 5
}
