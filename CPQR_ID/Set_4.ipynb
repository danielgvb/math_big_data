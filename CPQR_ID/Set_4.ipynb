{
 "cells": [
  {
   "cell_type": "code",
   "execution_count": 1,
   "id": "cfb1b55c-a123-4b34-99a3-01bd565c8253",
   "metadata": {},
   "outputs": [],
   "source": [
    "import numpy as np\n",
    "from scipy.linalg import qr"
   ]
  },
  {
   "cell_type": "markdown",
   "id": "fd5a99a6-732e-40dd-8c4e-16ae85a7e405",
   "metadata": {},
   "source": [
    "# 4.1"
   ]
  },
  {
   "cell_type": "code",
   "execution_count": 2,
   "id": "f85926f7-ca23-4242-9456-84b78a42b4a6",
   "metadata": {},
   "outputs": [
    {
     "data": {
      "text/plain": [
       "array([[-5.00000000e-01, -2.88675135e-01, -2.97984627e-02],\n",
       "       [-5.00000000e-01, -2.88675135e-01,  7.21534950e-01],\n",
       "       [-5.00000000e-01, -2.88675135e-01, -6.91736487e-01],\n",
       "       [-5.00000000e-01,  8.66025404e-01, -1.05266750e-16]])"
      ]
     },
     "execution_count": 2,
     "metadata": {},
     "output_type": "execute_result"
    }
   ],
   "source": [
    "A = np.array([[1,2,3],\n",
    "             [1,np.sqrt(3), 3],\n",
    "             [1, np.sqrt(5), 3],\n",
    "             [np.sqrt(13), 2, 3]])\n",
    "# CPQR Factorization\n",
    "Q, R, P = qr(A, mode='economic', pivoting=True)\n",
    "Q"
   ]
  },
  {
   "cell_type": "code",
   "execution_count": 3,
   "id": "e5d5aab8-13f8-4085-bf9f-7f049b3ad6bb",
   "metadata": {},
   "outputs": [
    {
     "name": "stdout",
     "output_type": "stream",
     "text": [
      "Rank-1 approximation:\n",
      "[[1.65138782 1.9920297  3.        ]\n",
      " [1.65138782 1.9920297  3.        ]\n",
      " [1.65138782 1.9920297  3.        ]\n",
      " [1.65138782 1.9920297  3.        ]]\n"
     ]
    }
   ],
   "source": [
    "# Rank-1 approximation\n",
    "# First column of Q and first row of R\n",
    "q1 = Q[:, 0]  # first column of Q\n",
    "r1 = R[0, :]  # first row of R\n",
    "\n",
    "# Reconstruct the rank-1 approximation using the outer product\n",
    "rank_1_approximation = np.outer(q1, r1)\n",
    "\n",
    "# Apply the column permutation\n",
    "P_inv = np.argsort(P)  # inverse permutation to reorder columns\n",
    "rank_1_approximation = rank_1_approximation[:, P_inv]\n",
    "\n",
    "print(\"Rank-1 approximation:\")\n",
    "print(rank_1_approximation)"
   ]
  },
  {
   "cell_type": "markdown",
   "id": "e3d23823-40fd-4d98-82ac-235e7f086a0a",
   "metadata": {},
   "source": [
    "3, 1.6, 1.9"
   ]
  },
  {
   "cell_type": "markdown",
   "id": "82f6ac91-40a3-475e-a566-4799aebb317f",
   "metadata": {},
   "source": [
    "# 4.2"
   ]
  },
  {
   "cell_type": "markdown",
   "id": "61e0528a-83fc-4f3c-ae0d-8e7a073eb522",
   "metadata": {},
   "source": [
    "The non-zero singular values of this matrix are approximately 15.7784 and 6.2356."
   ]
  },
  {
   "cell_type": "code",
   "execution_count": 4,
   "id": "8172a48f-1b43-466b-8394-477b9a9af975",
   "metadata": {},
   "outputs": [
    {
     "data": {
      "text/plain": [
       "array([[ 1.        ,  0.        ,  0.        ,  0.66666667],\n",
       "       [ 0.        ,  0.        ,  1.        , -0.8       ]])"
      ]
     },
     "execution_count": 4,
     "metadata": {},
     "output_type": "execute_result"
    }
   ],
   "source": [
    "from scipy.linalg import lstsq\n",
    "\n",
    "A = np.array([[9,0,5,2],\n",
    "             [-7.2,0,-6,0],\n",
    "             [6,0,0,4],\n",
    "             [3,0,5,-2]])\n",
    "\n",
    "k = 2\n",
    "\n",
    "\n",
    "J = [0,2]\n",
    "Jp = [1,3]\n",
    "P_index = J + Jp\n",
    "m, n = A.shape\n",
    "P = np.eye(n)[:,P_index]\n",
    "\n",
    "#  QR decomposition with column pivoting\n",
    "# Q is orthogonal, R is upper triangular, P contains the permutation indices\n",
    "Q, R = np.linalg.qr(A@P)\n",
    "\n",
    "# T = R1^{-1} * R2\n",
    "R1 = R[:k, :k]  # Upper triangular matrix for first k columns\n",
    "R2 = R[:k, k:]  # R2 is the rest of the first k rows\n",
    "R3 = R[k:, k:]  # Remaining rows and columns\n",
    "T = np.linalg.inv(R1) @ R2  # Matrix T\n",
    "\n",
    "# Z = [I_k, T]\n",
    "I_k = np.eye(k)  # Identity matrix of size k\n",
    "Z = np.hstack([I_k, T]) @ P.T  # Horizontal stack of I_k and T\n",
    "C = A[:,J]\n",
    "\n",
    "\n",
    "# Approximation of A\n",
    "approx_A = C @ Z\n",
    "\n",
    "# Approximation error\n",
    "approximation_error = np.linalg.norm(A - approx_A)\n",
    "approx_A\n",
    "Z"
   ]
  },
  {
   "cell_type": "code",
   "execution_count": 5,
   "id": "c131b92b-b3b8-4524-80fe-e3f81d36fc1b",
   "metadata": {},
   "outputs": [
    {
     "name": "stdout",
     "output_type": "stream",
     "text": [
      "CUR Decomposition:\n",
      "[[ 9.00000000e+00  0.00000000e+00  5.00000000e+00  2.00000000e+00]\n",
      " [-7.20000000e+00  0.00000000e+00 -6.00000000e+00  4.44089210e-16]\n",
      " [ 6.00000000e+00  0.00000000e+00  8.32667268e-16  4.00000000e+00]\n",
      " [ 3.00000000e+00  0.00000000e+00  5.00000000e+00 -2.00000000e+00]]\n"
     ]
    }
   ],
   "source": [
    "# Select specific column indices J and row indices I\n",
    "J = [0, 2]  # Columns 2 and 4\n",
    "I = [0, 2]  # Rows 2 and 4\n",
    "\n",
    "# Create C and R matrices by selecting columns and rows\n",
    "C = A[:, J]  # Selected columns\n",
    "R = A[I, :]  # Selected rows\n",
    "\n",
    "# Compute the submatrix A_IJ for the selected rows and columns\n",
    "A_IJ = A[I,:][:,J]\n",
    "\n",
    "# Step 2: Compute the pseudoinverse of A_IJ using Moore-Penrose pseudoinverse\n",
    "U = np.linalg.pinv(A_IJ)\n",
    "\n",
    "# Step 3: Construct the CUR decomposition\n",
    "CUR = C @ U @ R\n",
    "\n",
    "print(\"CUR Decomposition:\")\n",
    "print(CUR)"
   ]
  },
  {
   "cell_type": "code",
   "execution_count": 6,
   "id": "8036901f-9850-4bcf-8294-a007206692d5",
   "metadata": {},
   "outputs": [
    {
     "name": "stdout",
     "output_type": "stream",
     "text": [
      "C:\n",
      "[[ 9.   5. ]\n",
      " [-7.2 -6. ]\n",
      " [ 6.   0. ]\n",
      " [ 3.   5. ]]\n",
      "U:\n",
      "[[ 2.77555756e-17  1.66666667e-01]\n",
      " [ 2.00000000e-01 -3.00000000e-01]]\n",
      "R:\n",
      "[[9. 0. 5. 2.]\n",
      " [6. 0. 0. 4.]]\n"
     ]
    }
   ],
   "source": [
    "print(\"C:\")\n",
    "print(C)\n",
    "print(\"U:\")\n",
    "print(U)\n",
    "print(\"R:\")\n",
    "print(R)"
   ]
  },
  {
   "cell_type": "code",
   "execution_count": 7,
   "id": "44a554f3-576b-4350-955d-97ca52f53fd1",
   "metadata": {},
   "outputs": [
    {
     "data": {
      "text/html": [
       "<div>\n",
       "<style scoped>\n",
       "    .dataframe tbody tr th:only-of-type {\n",
       "        vertical-align: middle;\n",
       "    }\n",
       "\n",
       "    .dataframe tbody tr th {\n",
       "        vertical-align: top;\n",
       "    }\n",
       "\n",
       "    .dataframe thead th {\n",
       "        text-align: right;\n",
       "    }\n",
       "</style>\n",
       "<table border=\"1\" class=\"dataframe\">\n",
       "  <thead>\n",
       "    <tr style=\"text-align: right;\">\n",
       "      <th></th>\n",
       "      <th>0</th>\n",
       "      <th>1</th>\n",
       "    </tr>\n",
       "  </thead>\n",
       "  <tbody>\n",
       "    <tr>\n",
       "      <th>0</th>\n",
       "      <td>2.775558e-17</td>\n",
       "      <td>0.166667</td>\n",
       "    </tr>\n",
       "    <tr>\n",
       "      <th>1</th>\n",
       "      <td>2.000000e-01</td>\n",
       "      <td>-0.300000</td>\n",
       "    </tr>\n",
       "  </tbody>\n",
       "</table>\n",
       "</div>"
      ],
      "text/plain": [
       "              0         1\n",
       "0  2.775558e-17  0.166667\n",
       "1  2.000000e-01 -0.300000"
      ]
     },
     "execution_count": 7,
     "metadata": {},
     "output_type": "execute_result"
    }
   ],
   "source": [
    "import pandas as pd\n",
    "pd.DataFrame(U)"
   ]
  },
  {
   "cell_type": "markdown",
   "id": "5e5acb62-77d8-40bb-8b4d-202c6aab1b24",
   "metadata": {},
   "source": [
    "# 4.3 Schur Decomposition"
   ]
  },
  {
   "cell_type": "code",
   "execution_count": null,
   "id": "3ca501aa-4790-43ab-9139-0f7b9adda70f",
   "metadata": {},
   "outputs": [],
   "source": [
    "from scipy.linalg import schur\n",
    "\n",
    "# Define the square matrix A\n",
    "A = np.array([[7, -2],\n",
    "              [12, -3]])\n",
    "\n",
    "'''v = np.array([1,2])/np.sqrt(5)\n",
    "v0 = np.array([-2,1])\n",
    "\n",
    "# Compute Schur decomposition\n",
    "U, T = schur(A)\n",
    "\n",
    "# Display Q and T matrices\n",
    "U, T  # Unitary matrix Q and upper triangular matrix T'''\n",
    "eigenvalues, eigenvectors = np.linalg.eig(A)\n",
    "eigenvectors, eigenvalues"
   ]
  },
  {
   "cell_type": "markdown",
   "id": "960ce927-7817-4ccb-a2f7-539873c3553c",
   "metadata": {},
   "source": [
    "Eigevalue decomposition:\n",
    "\n",
    "$$ \\lambda_{1} = 3, \\lambda_{2} = 1$$ \n",
    "\n",
    "$$\n",
    "\\begin{pmatrix}\n",
    "1 & 1 \\\\\n",
    "2 & 3 \\\\\n",
    "\\end{pmatrix}\n",
    "$$"
   ]
  },
  {
   "cell_type": "code",
   "execution_count": null,
   "id": "d3b90ce0-948f-467a-8f91-40983da4c67e",
   "metadata": {},
   "outputs": [],
   "source": [
    "import numpy as np\n",
    "V = np.array([[1,1],\n",
    "             [2,3]])\n",
    "V_t = V.T\n",
    "D = np.array([[3,0],\n",
    "             [0,1]])\n",
    "\n",
    "V @ D @ V_t"
   ]
  },
  {
   "cell_type": "markdown",
   "id": "0b8d7169-00a5-4667-ac0f-2a74874ffeb0",
   "metadata": {},
   "source": [
    "T = UAU*\n",
    "U = saco eigenvalues, el vector normalizado del mayor eigenvalue (3)\n",
    "= v1 x [-2,1].T"
   ]
  }
 ],
 "metadata": {
  "kernelspec": {
   "display_name": "Python 3 (ipykernel)",
   "language": "python",
   "name": "python3"
  },
  "language_info": {
   "codemirror_mode": {
    "name": "ipython",
    "version": 3
   },
   "file_extension": ".py",
   "mimetype": "text/x-python",
   "name": "python",
   "nbconvert_exporter": "python",
   "pygments_lexer": "ipython3",
   "version": "3.11.5"
  }
 },
 "nbformat": 4,
 "nbformat_minor": 5
}
