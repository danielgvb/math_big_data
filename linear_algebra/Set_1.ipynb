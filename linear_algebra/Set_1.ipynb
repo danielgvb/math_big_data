{
 "cells": [
  {
   "cell_type": "code",
   "execution_count": 1,
   "id": "08d8cb10-cfff-4a32-abfb-5f0bc9c309f5",
   "metadata": {},
   "outputs": [],
   "source": [
    "import numpy as np"
   ]
  },
  {
   "cell_type": "markdown",
   "id": "d0257c81-ee01-4acb-9f55-4153ad8c5cb4",
   "metadata": {},
   "source": [
    "# 1.1"
   ]
  },
  {
   "cell_type": "code",
   "execution_count": 2,
   "id": "f1cf0fd0-bc02-4e8c-9bc1-4529b2110fbf",
   "metadata": {},
   "outputs": [
    {
     "name": "stdout",
     "output_type": "stream",
     "text": [
      "Eigenvalues: [ 3. -2.  1.]\n",
      "Eigenvectors: [[ 0.40824829  0.57735027  0.23570226]\n",
      " [ 0.81649658 -0.57735027 -0.94280904]\n",
      " [ 0.40824829 -0.57735027 -0.23570226]]\n"
     ]
    }
   ],
   "source": [
    "# Step 3: Define your matrix\n",
    "A = np.array([[1, -1, 4],\n",
    "              [3, 2, -1],\n",
    "              [2, 1, -1]])\n",
    "\n",
    "# Step 4: Compute the eigenvalues and eigenvectors\n",
    "eigenvalues, eigenvectors = np.linalg.eig(A)\n",
    "\n",
    "# Step 5: Access and print the eigenvalues and eigenvectors\n",
    "print(\"Eigenvalues:\", eigenvalues)\n",
    "print(\"Eigenvectors:\", eigenvectors)"
   ]
  },
  {
   "cell_type": "code",
   "execution_count": 3,
   "id": "b24fcd43-76e2-4aca-8eea-4a7b20358aa8",
   "metadata": {},
   "outputs": [
    {
     "name": "stdout",
     "output_type": "stream",
     "text": [
      "Diagonal matrix using the eigenvalues:\n",
      "[[ 3.  0.  0.]\n",
      " [ 0. -2.  0.]\n",
      " [ 0.  0.  1.]]\n"
     ]
    }
   ],
   "source": [
    "diagonal_matrix = np.diag(eigenvalues)\n",
    "\n",
    "print(\"Diagonal matrix using the eigenvalues:\")\n",
    "print(diagonal_matrix)"
   ]
  },
  {
   "cell_type": "code",
   "execution_count": 4,
   "id": "acff3563-bd80-4c67-b65d-2b5e06471169",
   "metadata": {},
   "outputs": [
    {
     "data": {
      "text/plain": [
       "array([[ 1., -1.,  4.],\n",
       "       [ 3.,  2., -1.],\n",
       "       [ 2.,  1., -1.]])"
      ]
     },
     "execution_count": 4,
     "metadata": {},
     "output_type": "execute_result"
    }
   ],
   "source": [
    "# check if A is V(diag)V-1\n",
    "V = np.array([[1, -1,-1], \n",
    "              [2, 1,4],\n",
    "             [1,1,1]])\n",
    "V = eigenvectors\n",
    "V_inv = np.linalg.inv(V)\n",
    "\n",
    "V @ diagonal_matrix @ V_inv"
   ]
  },
  {
   "cell_type": "markdown",
   "id": "f056bc62-0146-4b34-82c4-66e9921d41a8",
   "metadata": {},
   "source": [
    "----------------------------------"
   ]
  },
  {
   "cell_type": "markdown",
   "id": "53dacf95-a19b-4754-abec-de094f2b93ed",
   "metadata": {},
   "source": [
    "# 1.2"
   ]
  },
  {
   "cell_type": "code",
   "execution_count": 5,
   "id": "f33ee7c6-f989-4222-b639-e7b0a4553ed2",
   "metadata": {},
   "outputs": [
    {
     "data": {
      "text/plain": [
       "array([[1., 1., 1., 1.],\n",
       "       [1., 1., 1., 1.],\n",
       "       [1., 1., 1., 1.],\n",
       "       [1., 1., 1., 1.]])"
      ]
     },
     "execution_count": 5,
     "metadata": {},
     "output_type": "execute_result"
    }
   ],
   "source": [
    "A = np.ones((4,4))\n",
    "A"
   ]
  },
  {
   "cell_type": "code",
   "execution_count": 6,
   "id": "76dd4841-d278-41cd-97ed-bd1b4d8782ea",
   "metadata": {},
   "outputs": [
    {
     "data": {
      "text/plain": [
       "array([-1.,  3., -1., -1.])"
      ]
     },
     "execution_count": 6,
     "metadata": {},
     "output_type": "execute_result"
    }
   ],
   "source": [
    "# a) Eigenvalues A- I4\n",
    "'''\n",
    "(a) The eigenvalues of A − I4 are . . . (the smaller one) which has algebraic multiplicity\n",
    ". . . , and . . . (the larger one) which has algebraic multiplicity . . . .\n",
    "(b) The determinant of A − I4 is . . . .\n",
    "\n",
    "'''\n",
    "eigenvalues, eigenvectors = np.linalg.eig(A-np.eye(4))\n",
    "#eigenvalues_manual = np.array([4,0,0,0])\n",
    "#eigenvectors_manual = np.array([[1,1,1,1],\n",
    "#                                [-1,0,0,1],\n",
    "#                                [-1,0,1,0],\n",
    "#                                [-1,1,0,0]]).T\n",
    "eigenvalues"
   ]
  },
  {
   "cell_type": "code",
   "execution_count": 7,
   "id": "98fb791e-540c-43b0-a8be-64d439460858",
   "metadata": {},
   "outputs": [
    {
     "data": {
      "text/plain": [
       "-3"
      ]
     },
     "execution_count": 7,
     "metadata": {},
     "output_type": "execute_result"
    }
   ],
   "source": [
    "round(np.linalg.det(A-np.eye(4)))"
   ]
  },
  {
   "cell_type": "markdown",
   "id": "bc78ca9b-9caf-4ea8-ba45-acb0fa542309",
   "metadata": {},
   "source": [
    "-------------------------------------"
   ]
  },
  {
   "cell_type": "markdown",
   "id": "58459468-0335-48b7-8cbf-0eb613f7a8fe",
   "metadata": {},
   "source": [
    "# 1.3"
   ]
  },
  {
   "cell_type": "code",
   "execution_count": 8,
   "id": "12228e62-1560-41b3-a9e2-9271a0143132",
   "metadata": {},
   "outputs": [
    {
     "data": {
      "text/plain": [
       "array([[ 1,  2,  0,  2, -1,  1],\n",
       "       [ 3,  6,  1,  1, -2,  1],\n",
       "       [ 5, 10,  1,  5, -4,  3]])"
      ]
     },
     "execution_count": 8,
     "metadata": {},
     "output_type": "execute_result"
    }
   ],
   "source": [
    "A = np.array([[1,2,0,2,-1,1],\n",
    "             [3,6,1,1,-2,1],\n",
    "             [5,10,1,5,-4,3]])\n",
    "A"
   ]
  },
  {
   "cell_type": "markdown",
   "id": "859140eb-9812-4444-aa6c-3e34010021f2",
   "metadata": {},
   "source": [
    "a) Find a basis for the range of A) \r\n",
    "."
   ]
  },
  {
   "cell_type": "code",
   "execution_count": 9,
   "id": "8efaea3d-ec58-40d5-a51d-78734a6d4d15",
   "metadata": {},
   "outputs": [
    {
     "data": {
      "text/plain": [
       "array([[ 1,  2,  0,  2, -1,  1],\n",
       "       [ 0,  0,  1, -5,  1, -2],\n",
       "       [ 0,  0,  0,  0,  0,  0]])"
      ]
     },
     "execution_count": 9,
     "metadata": {},
     "output_type": "execute_result"
    }
   ],
   "source": [
    "row_echelon_A = np.array([[1, 2, 0, 2, -1, 1], [0, 0, 1, -5, 1, -2], [0, 0, 0, 0, 0, 0]])\n",
    "row_echelon_A"
   ]
  },
  {
   "cell_type": "markdown",
   "id": "3795771e-26ca-4341-9801-9d0441648a41",
   "metadata": {},
   "source": [
    "From the povits get that 1,0,0 and 0,1,1 (because last row is equal to second to last row)"
   ]
  },
  {
   "cell_type": "markdown",
   "id": "03bff88e-f1e4-4945-9d28-073c10e0a0b0",
   "metadata": {},
   "source": [
    "b) The range(A) is a range in R3, which equation is."
   ]
  },
  {
   "cell_type": "markdown",
   "id": "252a42f4-074d-4a28-8985-033286d66814",
   "metadata": {},
   "source": [
    "−2x−y+z=0"
   ]
  },
  {
   "cell_type": "markdown",
   "id": "de318de2-75f8-4f16-a102-dfd9d2aa89cd",
   "metadata": {},
   "source": [
    "c) The dimension of the row space of A is�\r\n",
    "A is 2."
   ]
  },
  {
   "cell_type": "markdown",
   "id": "5f3956ae-39fb-4196-bb0f-d4454013b4cc",
   "metadata": {},
   "source": [
    "d) Fill in the missing coordinates of the following vector so that it lies in the row space  of A."
   ]
  },
  {
   "cell_type": "markdown",
   "id": "26ff9343-cdb1-456f-9e45-7aac6db2a8f8",
   "metadata": {},
   "source": [
    "```K = [4,_,6,_,_,_].T```"
   ]
  },
  {
   "cell_type": "code",
   "execution_count": 10,
   "id": "7029daaa-0ce4-4fcc-9927-3143972c2114",
   "metadata": {},
   "outputs": [
    {
     "name": "stdout",
     "output_type": "stream",
     "text": [
      "Vector lies in the row space: [ True]\n",
      "Coefficients: [  6. -14.]\n"
     ]
    }
   ],
   "source": [
    "basis_1 = np.array([3, 6, 1, 1, -2, 1])\n",
    "basis_2 = np.array([1, 2, 0, 2, -1, 1])\n",
    "\n",
    "# Vector to check\n",
    "v = np.array([4, 8, 6, -22, 2, -8])\n",
    "\n",
    "# Form the matrix from the basis vectors\n",
    "B = np.vstack([basis_1, basis_2]).T  # Ensure B is correctly oriented\n",
    "\n",
    "# Solve the least squares problem Bx = v to find the coefficients x\n",
    "x, residuals, rank, s = np.linalg.lstsq(B, v, rcond=None)\n",
    "\n",
    "# If the residuals are small or zero, v lies in the row space\n",
    "is_in_row_space = residuals.size == 0 or np.isclose(residuals, 0)\n",
    "\n",
    "print(\"Vector lies in the row space:\", is_in_row_space)\n",
    "print(\"Coefficients:\", x)"
   ]
  },
  {
   "cell_type": "markdown",
   "id": "58a8cff7-ae38-498e-8cfe-2c5557ef736e",
   "metadata": {},
   "source": [
    "# 1.4"
   ]
  },
  {
   "cell_type": "code",
   "execution_count": 11,
   "id": "631f6c4c-d9ea-4894-9b66-1beaa8c8b3e1",
   "metadata": {},
   "outputs": [
    {
     "data": {
      "text/plain": [
       "array([[ 0.33333333, -0.66666667, -0.66666667],\n",
       "       [-0.66666667,  0.83333333, -1.16666667],\n",
       "       [-0.66666667, -1.16666667,  0.83333333]])"
      ]
     },
     "execution_count": 11,
     "metadata": {},
     "output_type": "execute_result"
    }
   ],
   "source": [
    "A = np.array([[1/3,-2/3,-2/3],\n",
    "             [-2/3,5/6,-7/6],\n",
    "             [-2/3,-7/6,5/6]])\n",
    "A"
   ]
  },
  {
   "cell_type": "code",
   "execution_count": 12,
   "id": "a94c824b-f13e-4e1c-82dc-1cc476171991",
   "metadata": {},
   "outputs": [
    {
     "data": {
      "text/plain": [
       "array([ 1., -1.,  2.])"
      ]
     },
     "execution_count": 12,
     "metadata": {},
     "output_type": "execute_result"
    }
   ],
   "source": [
    "eigenvalues, eigenvectors = np.linalg.eig(A)\n",
    "eigenvalues"
   ]
  },
  {
   "cell_type": "code",
   "execution_count": 13,
   "id": "8f03d0a9-bfe0-4bb2-b479-dc98493f1001",
   "metadata": {},
   "outputs": [
    {
     "data": {
      "text/plain": [
       "array([[ 1.0000000e+00,  1.0000000e+00,  1.0000000e+00],\n",
       "       [-5.0000000e-01,  1.0000000e+00, -2.3474106e+16],\n",
       "       [-5.0000000e-01,  1.0000000e+00,  2.3474106e+16]])"
      ]
     },
     "execution_count": 13,
     "metadata": {},
     "output_type": "execute_result"
    }
   ],
   "source": [
    "V = eigenvectors\n",
    "\n",
    "V / V[0]"
   ]
  },
  {
   "cell_type": "code",
   "execution_count": 14,
   "id": "7ca4903b-d09d-4e44-82e0-d3c92fe08340",
   "metadata": {},
   "outputs": [
    {
     "data": {
      "text/plain": [
       "array([[-2.00000000e+00,  1.00000000e+00, -4.26001314e-17],\n",
       "       [ 1.00000000e+00,  1.00000000e+00,  1.00000000e+00],\n",
       "       [ 1.00000000e+00,  1.00000000e+00, -1.00000000e+00]])"
      ]
     },
     "execution_count": 14,
     "metadata": {},
     "output_type": "execute_result"
    }
   ],
   "source": [
    "V / V[1]"
   ]
  },
  {
   "cell_type": "code",
   "execution_count": 15,
   "id": "43ab791e-d9f3-4579-b0c0-9228f2f06015",
   "metadata": {},
   "outputs": [
    {
     "data": {
      "text/plain": [
       "array([[-2.00000000e+00,  1.00000000e+00,  4.26001314e-17],\n",
       "       [ 1.00000000e+00,  1.00000000e+00, -1.00000000e+00],\n",
       "       [ 1.00000000e+00,  1.00000000e+00,  1.00000000e+00]])"
      ]
     },
     "execution_count": 15,
     "metadata": {},
     "output_type": "execute_result"
    }
   ],
   "source": [
    "V / V[2]"
   ]
  },
  {
   "cell_type": "markdown",
   "id": "fcaeee73-de9d-4190-b027-50d7e7122715",
   "metadata": {},
   "source": [
    "a) Characteristic polynomial\n",
    "$ p(\\lambda) =  - \\lambda^3 + 2 \\lambda^2 + \\lambda - 2$ ???"
   ]
  },
  {
   "cell_type": "markdown",
   "id": "911e0d69-da76-413f-ba2e-1b3c4b659b35",
   "metadata": {},
   "source": [
    "b) Eigenvalues eigenvectors]]"
   ]
  },
  {
   "cell_type": "code",
   "execution_count": 16,
   "id": "622730ee-fdf4-43ad-ab99-67c24bc43bf2",
   "metadata": {},
   "outputs": [],
   "source": [
    "l1 = 2\n",
    "l2 = -1\n",
    "l3 = 1\n",
    "v1 = np.array([0,-1,1])\n",
    "v2 = np.array([1,1,1])\n",
    "v3 = np.array([-2,1,1])"
   ]
  },
  {
   "cell_type": "code",
   "execution_count": 20,
   "id": "80e4f18b-5943-401a-9767-222be1daa69f",
   "metadata": {},
   "outputs": [],
   "source": [
    "a, b, c, d, m, n = 1, 4 ,2, 0, -3, 6"
   ]
  },
  {
   "cell_type": "code",
   "execution_count": 21,
   "id": "cb831012-8972-4173-adc9-9c3030623d4f",
   "metadata": {},
   "outputs": [
    {
     "data": {
      "text/plain": [
       "array([[0., 0., 0.],\n",
       "       [0., 0., 0.],\n",
       "       [0., 0., 0.]])"
      ]
     },
     "execution_count": 21,
     "metadata": {},
     "output_type": "execute_result"
    }
   ],
   "source": [
    "# Checking the results:\n",
    "\n",
    "\n",
    "E_1 = 1/m * np.array([[ a, a, a],\n",
    "                      [ a, a, a],\n",
    "                      [ a, a, a]])\n",
    "\n",
    "E_2 = 1/n * np.array([[ b, -c, -c],\n",
    "                      [-c,  a,  a],\n",
    "                      [-c,  a,  a]])\n",
    "\n",
    "E_3 = 1/2 * np.array([[ d,  d,  d],\n",
    "                      [ d, a, -a],\n",
    "                      [ d, -a,  a]])\n",
    "\n",
    "check = (1*E_1) + (1*E_2) + (2*E_3) - A\n",
    "check"
   ]
  }
 ],
 "metadata": {
  "kernelspec": {
   "display_name": "Python 3 (ipykernel)",
   "language": "python",
   "name": "python3"
  },
  "language_info": {
   "codemirror_mode": {
    "name": "ipython",
    "version": 3
   },
   "file_extension": ".py",
   "mimetype": "text/x-python",
   "name": "python",
   "nbconvert_exporter": "python",
   "pygments_lexer": "ipython3",
   "version": "3.11.5"
  }
 },
 "nbformat": 4,
 "nbformat_minor": 5
}
