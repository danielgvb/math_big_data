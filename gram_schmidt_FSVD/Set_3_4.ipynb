{
 "cells": [
  {
   "cell_type": "code",
   "execution_count": 1,
   "id": "91c64831-5e59-4274-99ac-6a59b8a9239b",
   "metadata": {},
   "outputs": [],
   "source": [
    "import numpy as np\n",
    "import pandas as pd"
   ]
  },
  {
   "cell_type": "code",
   "execution_count": 2,
   "id": "90ffa4af-336f-413f-9438-77cace395444",
   "metadata": {},
   "outputs": [],
   "source": [
    "df = pd.read_csv('Movie_Rating.csv')\n",
    "df.replace(-1, np.nan, inplace=True)"
   ]
  },
  {
   "cell_type": "code",
   "execution_count": 3,
   "id": "39e74d1f-ca70-4944-af8e-1fa06e55a253",
   "metadata": {},
   "outputs": [
    {
     "name": "stdout",
     "output_type": "stream",
     "text": [
      "<class 'pandas.core.frame.DataFrame'>\n",
      "RangeIndex: 27 entries, 0 to 26\n",
      "Data columns (total 12 columns):\n",
      " #   Column                                              Non-Null Count  Dtype  \n",
      "---  ------                                              --------------  -----  \n",
      " 0   Risposta                                            27 non-null     int64  \n",
      " 1   Nome                                                27 non-null     object \n",
      " 2   Q01_Movie Rating->1. Oppenheimer (2023)             24 non-null     float64\n",
      " 3   Q01_Movie Rating->2. Barbie (2023)                  18 non-null     float64\n",
      " 4   Q01_Movie Rating->3. Poor Things (2023)             14 non-null     float64\n",
      " 5   Q01_Movie Rating->4. The shape of water (2017)      11 non-null     float64\n",
      " 6   Q01_Movie Rating->5. Frozen (2013)                  22 non-null     float64\n",
      " 7   Q01_Movie Rating->6. Caesar must die (2012)         2 non-null      float64\n",
      " 8   Q01_Movie Rating->7. The Hangover (2009)            17 non-null     float64\n",
      " 9   Q01_Movie Rating->8. No Country for old men (2007)  13 non-null     float64\n",
      " 10  Q01_Movie Rating->9. Gladiator (2000)               21 non-null     float64\n",
      " 11  Q01_Movie Rating->10. Groundhog Day (1993)          5 non-null      float64\n",
      "dtypes: float64(10), int64(1), object(1)\n",
      "memory usage: 2.7+ KB\n"
     ]
    }
   ],
   "source": [
    "df.info()"
   ]
  },
  {
   "cell_type": "markdown",
   "id": "d60dfc72-0f2b-4474-b5d8-922c7a4312d6",
   "metadata": {},
   "source": [
    "### 3.4.1 Extract A"
   ]
  },
  {
   "cell_type": "code",
   "execution_count": 4,
   "id": "0f36a1af-6e2b-466c-8b67-56babd3de25a",
   "metadata": {},
   "outputs": [
    {
     "name": "stdout",
     "output_type": "stream",
     "text": [
      "Matrix A:\n",
      "[[ 3.  1.  2. nan  5. nan  5. nan  2. nan]\n",
      " [ 4. nan nan nan  2. nan nan nan nan nan]\n",
      " [ 4.  5.  4.  5.  5. nan  4.  5.  4. nan]\n",
      " [ 4.  2. nan nan  4. nan  3. nan  4. nan]\n",
      " [ 5.  1. nan  3.  3.  3.  5.  2.  3. nan]\n",
      " [ 3. nan  4. nan nan nan  3.  5.  4. nan]\n",
      " [ 4.  3.  2. nan  3. nan  5.  4.  4. nan]\n",
      " [ 5.  2.  5.  4.  3. nan nan nan nan nan]\n",
      " [ 3. nan nan nan nan nan  3.  4.  5.  3.]\n",
      " [ 5.  1. nan nan  5. nan  4. nan  5. nan]\n",
      " [ 5. nan nan  4.  2. nan nan nan  5. nan]\n",
      " [ 4.  3.  4. nan  4. nan nan nan  3. nan]\n",
      " [nan nan  3. nan nan nan  4. nan nan nan]\n",
      " [nan  4.  4.  5.  2. nan  4.  5.  5. nan]\n",
      " [ 4.  1.  3.  4.  3. nan  3.  5. nan  3.]\n",
      " [ 5.  1.  4.  4.  1. nan  1.  5.  2.  4.]\n",
      " [nan  3.  5. nan  3. nan nan nan nan nan]\n",
      " [ 5. nan nan  3.  1. nan  3.  5.  4. nan]\n",
      " [ 5.  3. nan  5.  1. nan  4.  5.  3.  4.]\n",
      " [ 5. nan nan nan nan nan  4.  5.  5. nan]\n",
      " [ 5.  4. nan nan  3. nan  4. nan nan nan]\n",
      " [ 4. nan nan nan  5. nan nan nan  3.  4.]\n",
      " [ 4. nan nan  4.  2. nan nan nan  4. nan]\n",
      " [ 4.  2.  4. nan nan nan  4.  5.  2. nan]\n",
      " [ 4.  4. nan nan  3. nan nan nan  5. nan]\n",
      " [ 5.  4.  5.  4.  1.  5. nan  5.  5. nan]\n",
      " [ 5.  3.  4. nan  3. nan nan nan  5. nan]]\n"
     ]
    }
   ],
   "source": [
    "A = np.array(df.drop(columns = ['Risposta', 'Nome']))\n",
    "print('Matrix A:')\n",
    "print(A)"
   ]
  },
  {
   "cell_type": "markdown",
   "id": "8d335e00-7536-4f91-92ae-bbebbac3f5f0",
   "metadata": {},
   "source": [
    "### 3.4.2 Funk SVD for rank-2 approx of PQ*ix"
   ]
  },
  {
   "cell_type": "code",
   "execution_count": 5,
   "id": "37e91da5-9f20-43de-afe0-05f425293610",
   "metadata": {},
   "outputs": [
    {
     "data": {
      "text/plain": [
       "array([[3., 1., 2., 0., 5., 0., 5., 0., 2., 0.],\n",
       "       [4., 0., 0., 0., 2., 0., 0., 0., 0., 0.],\n",
       "       [4., 5., 4., 5., 5., 0., 4., 5., 4., 0.],\n",
       "       [4., 2., 0., 0., 4., 0., 3., 0., 4., 0.],\n",
       "       [5., 1., 0., 3., 3., 3., 5., 2., 3., 0.],\n",
       "       [3., 0., 4., 0., 0., 0., 3., 5., 4., 0.],\n",
       "       [4., 3., 2., 0., 3., 0., 5., 4., 4., 0.],\n",
       "       [5., 2., 5., 4., 3., 0., 0., 0., 0., 0.],\n",
       "       [3., 0., 0., 0., 0., 0., 3., 4., 5., 3.],\n",
       "       [5., 1., 0., 0., 5., 0., 4., 0., 5., 0.],\n",
       "       [5., 0., 0., 4., 2., 0., 0., 0., 5., 0.],\n",
       "       [4., 3., 4., 0., 4., 0., 0., 0., 3., 0.],\n",
       "       [0., 0., 3., 0., 0., 0., 4., 0., 0., 0.],\n",
       "       [0., 4., 4., 5., 2., 0., 4., 5., 5., 0.],\n",
       "       [4., 1., 3., 4., 3., 0., 3., 5., 0., 3.],\n",
       "       [5., 1., 4., 4., 1., 0., 1., 5., 2., 4.],\n",
       "       [0., 3., 5., 0., 3., 0., 0., 0., 0., 0.],\n",
       "       [5., 0., 0., 3., 1., 0., 3., 5., 4., 0.],\n",
       "       [5., 3., 0., 5., 1., 0., 4., 5., 3., 4.],\n",
       "       [5., 0., 0., 0., 0., 0., 4., 5., 5., 0.],\n",
       "       [5., 4., 0., 0., 3., 0., 4., 0., 0., 0.],\n",
       "       [4., 0., 0., 0., 5., 0., 0., 0., 3., 4.],\n",
       "       [4., 0., 0., 4., 2., 0., 0., 0., 4., 0.],\n",
       "       [4., 2., 4., 0., 0., 0., 4., 5., 2., 0.],\n",
       "       [4., 4., 0., 0., 3., 0., 0., 0., 5., 0.],\n",
       "       [5., 4., 5., 4., 1., 5., 0., 5., 5., 0.],\n",
       "       [5., 3., 4., 0., 3., 0., 0., 0., 5., 0.]])"
      ]
     },
     "execution_count": 5,
     "metadata": {},
     "output_type": "execute_result"
    }
   ],
   "source": [
    "np.nan_to_num(A, nan = 0)"
   ]
  },
  {
   "cell_type": "code",
   "execution_count": 6,
   "id": "5b7a70d2-0f2c-41a9-8257-acdb7572c03e",
   "metadata": {},
   "outputs": [
    {
     "name": "stdout",
     "output_type": "stream",
     "text": [
      "Matrix A_centered:\n",
      "[[-0.852 -0.741  0.037 -1.667  2.63  -0.296  2.667 -2.222 -1.037 -0.667]\n",
      " [ 0.148 -1.741 -1.963 -1.667 -0.37  -0.296 -2.333 -2.222 -3.037 -0.667]\n",
      " [ 0.148  3.259  2.037  3.333  2.63  -0.296  1.667  2.778  0.963 -0.667]\n",
      " [ 0.148  0.259 -1.963 -1.667  1.63  -0.296  0.667 -2.222  0.963 -0.667]\n",
      " [ 1.148 -0.741 -1.963  1.333  0.63   2.704  2.667 -0.222 -0.037 -0.667]\n",
      " [-0.852 -1.741  2.037 -1.667 -2.37  -0.296  0.667  2.778  0.963 -0.667]\n",
      " [ 0.148  1.259  0.037 -1.667  0.63  -0.296  2.667  1.778  0.963 -0.667]\n",
      " [ 1.148  0.259  3.037  2.333  0.63  -0.296 -2.333 -2.222 -3.037 -0.667]\n",
      " [-0.852 -1.741 -1.963 -1.667 -2.37  -0.296  0.667  1.778  1.963  2.333]\n",
      " [ 1.148 -0.741 -1.963 -1.667  2.63  -0.296  1.667 -2.222  1.963 -0.667]\n",
      " [ 1.148 -1.741 -1.963  2.333 -0.37  -0.296 -2.333 -2.222  1.963 -0.667]\n",
      " [ 0.148  1.259  2.037 -1.667  1.63  -0.296 -2.333 -2.222 -0.037 -0.667]\n",
      " [-3.852 -1.741  1.037 -1.667 -2.37  -0.296  1.667 -2.222 -3.037 -0.667]\n",
      " [-3.852  2.259  2.037  3.333 -0.37  -0.296  1.667  2.778  1.963 -0.667]\n",
      " [ 0.148 -0.741  1.037  2.333  0.63  -0.296  0.667  2.778 -3.037  2.333]\n",
      " [ 1.148 -0.741  2.037  2.333 -1.37  -0.296 -1.333  2.778 -1.037  3.333]\n",
      " [-3.852  1.259  3.037 -1.667  0.63  -0.296 -2.333 -2.222 -3.037 -0.667]\n",
      " [ 1.148 -1.741 -1.963  1.333 -1.37  -0.296  0.667  2.778  0.963 -0.667]\n",
      " [ 1.148  1.259 -1.963  3.333 -1.37  -0.296  1.667  2.778 -0.037  3.333]\n",
      " [ 1.148 -1.741 -1.963 -1.667 -2.37  -0.296  1.667  2.778  1.963 -0.667]\n",
      " [ 1.148  2.259 -1.963 -1.667  0.63  -0.296  1.667 -2.222 -3.037 -0.667]\n",
      " [ 0.148 -1.741 -1.963 -1.667  2.63  -0.296 -2.333 -2.222 -0.037  3.333]\n",
      " [ 0.148 -1.741 -1.963  2.333 -0.37  -0.296 -2.333 -2.222  0.963 -0.667]\n",
      " [ 0.148  0.259  2.037 -1.667 -2.37  -0.296  1.667  2.778 -1.037 -0.667]\n",
      " [ 0.148  2.259 -1.963 -1.667  0.63  -0.296 -2.333 -2.222  1.963 -0.667]\n",
      " [ 1.148  2.259  3.037  2.333 -1.37   4.704 -2.333  2.778  1.963 -0.667]\n",
      " [ 1.148  1.259  2.037 -1.667  0.63  -0.296 -2.333 -2.222  1.963 -0.667]]\n"
     ]
    }
   ],
   "source": [
    "# Center A\n",
    "column_means = np.nan_to_num(A, nan = 0).mean(axis=0)\n",
    "A_centered = np.nan_to_num(A, nan = 0) - column_means\n",
    "print('Matrix A_centered:')\n",
    "print(np.around(A_centered, decimals=3))"
   ]
  },
  {
   "cell_type": "code",
   "execution_count": 7,
   "id": "280efa44-3e64-4467-9495-8ce41b50a9db",
   "metadata": {},
   "outputs": [
    {
     "name": "stdout",
     "output_type": "stream",
     "text": [
      "PQ* rank-2 approximation:\n",
      "[[ 1.232  3.447  0.38   2.575  1.782  4.732  2.888  3.005  2.543  3.824]\n",
      " [ 0.179  0.387  0.55   0.628  0.394  0.99   0.315  0.661  0.38   0.721]\n",
      " [ 0.923  2.186  2.019  2.821  1.811  4.607  1.799  3.04   1.944  3.447]\n",
      " [ 0.401  0.596  2.431  2.026  1.214  2.954  0.456  2.028  0.88   2.02 ]\n",
      " [ 0.882  2.722 -0.852  1.264  0.967  2.697  2.302  1.639  1.794  2.358]\n",
      " [ 0.568  1.12   2.231  2.245  1.386  3.441  0.9    2.32   1.219  2.453]\n",
      " [ 0.626  1.779  0.068  1.243  0.871  2.326  1.493  1.469  1.289  1.9  ]\n",
      " [ 0.329  0.303  2.813  2.084  1.221  2.927  0.203  2.037  0.742  1.934]\n",
      " [ 0.585  1.34   1.481  1.893  1.204  3.045  1.099  2.019  1.238  2.253]\n",
      " [ 0.987  2.116  3.137  3.522  2.206  5.528  1.72   3.697  2.102  4.016]\n",
      " [ 0.919  2.387  1.091  2.337  1.551  4.025  1.985  2.609  1.916  3.124]\n",
      " [ 0.566  1.158  2.036  2.141  1.33   3.314  0.936  2.227  1.21   2.382]\n",
      " [ 0.746  1.901  1.041  1.976  1.301  3.361  1.578  2.188  1.558  2.587]\n",
      " [ 0.905  2.113  2.111  2.834  1.812  4.597  1.736  3.04   1.909  3.423]\n",
      " [ 0.595  1.362  1.507  1.924  1.224  3.095  1.116  2.053  1.258  2.291]\n",
      " [ 0.82   1.909  1.946  2.586  1.652  4.189  1.568  2.772  1.732  3.115]\n",
      " [ 0.485  0.785  2.658  2.305  1.391  3.4    0.611  2.324  1.058  2.349]\n",
      " [ 0.551  1.2    1.664  1.92   1.207  3.031  0.978  2.023  1.171  2.212]\n",
      " [ 0.783  1.637  2.671  2.888  1.8    4.497  1.326  3.016  1.672  3.247]\n",
      " [ 0.879  2.158  1.595  2.519  1.636  4.189  1.784  2.747  1.845  3.174]\n",
      " [ 0.687  2.055 -0.377  1.132  0.831  2.276  1.733  1.407  1.404  1.933]\n",
      " [ 0.669  0.996  4.053  3.379  2.025  4.928  0.762  3.383  1.47   3.371]\n",
      " [ 0.451  0.734  2.454  2.135  1.288  3.151  0.572  2.154  0.984  2.178]\n",
      " [ 0.569  1.129  2.211  2.238  1.383  3.435  0.908  2.316  1.222  2.452]\n",
      " [ 0.72   2.146 -0.363  1.203  0.88   2.405  1.809  1.489  1.472  2.037]\n",
      " [ 0.833  1.831  2.454  2.873  1.809  4.548  1.493  3.033  1.77   3.325]\n",
      " [ 0.632  1.402  1.802  2.149  1.356  3.414  1.145  2.274  1.342  2.503]]\n"
     ]
    }
   ],
   "source": [
    "def FunkSVD(centered_mat, latent_features=2, learning_rate=0.01, regularization = 0.1, iters=100):\n",
    "\n",
    "    \n",
    "    # Init shapes\n",
    "    n_users = centered_mat.shape[0]\n",
    "    n_items = centered_mat.shape[1]\n",
    "    num_complete = np.count_nonzero(~np.isnan(centered_mat))\n",
    "    \n",
    "    # initialize random matrices for user and item\n",
    "    user_mat = np.random.rand(n_users, latent_features) #P\n",
    "    item_mat = np.random.rand(latent_features, n_items) #Q*\n",
    "    \n",
    "    # init sse\n",
    "    sse_accum = 0\n",
    "    \n",
    "\n",
    "    # for loop\n",
    "    for iteration in range(iters):\n",
    "\n",
    "        # update sse\n",
    "        old_sse = sse_accum\n",
    "        sse_accum = 0\n",
    "        \n",
    "        # For each user-item pair\n",
    "        for i in range(n_users):\n",
    "            for j in range(n_items):\n",
    "                \n",
    "                # if the rating exists\n",
    "                if centered_mat[i, j] >= 0:\n",
    "                    \n",
    "                    # compute the error as the actual minus the dot product of the user and item latent features\n",
    "                    diff = centered_mat[i, j] - np.dot(user_mat[i, :], item_mat[:, j])\n",
    "                    \n",
    "                    # Keep track of the sum of squared errors for the matrix\n",
    "                    sse_accum += diff**2\n",
    "                    \n",
    "                    # update the values in each matrix in the direction of the gradient\n",
    "                    user_mat[i, :] += learning_rate * (2 * diff * item_mat[:, j] - regularization * user_mat[i, :])\n",
    "                    item_mat[:, j] += learning_rate * (2 * diff * user_mat[i, :] - regularization * item_mat[:, j])\n",
    "        \n",
    "    return user_mat, item_mat\n",
    "\n",
    "np.random.seed(42)\n",
    "P, Q_star = FunkSVD(A_centered, latent_features=2, learning_rate=0.0125, regularization = 0.1 ,iters=200)\n",
    "Q = Q_star.T\n",
    "# Rank 2 approximation of PQ*\n",
    "rank_2_approximation = np.dot(P, Q_star)\n",
    "\n",
    "print('PQ* rank-2 approximation:')\n",
    "print(np.around(rank_2_approximation, decimals=3))"
   ]
  },
  {
   "cell_type": "markdown",
   "id": "58888ad1-6ca2-49dc-8432-0e1f790d7483",
   "metadata": {},
   "source": [
    "### 3.4.3 Plot"
   ]
  },
  {
   "cell_type": "code",
   "execution_count": 8,
   "id": "da95dbab-e32b-4d77-ae82-93e26251331f",
   "metadata": {},
   "outputs": [
    {
     "data": {
      "image/png": "[encoded data removed]",
      "text/plain": [
       "<Figure size 1000x500 with 2 Axes>"
      ]
     },
     "metadata": {},
     "output_type": "display_data"
    }
   ],
   "source": [
    "import matplotlib.pyplot as plt\n",
    "\n",
    "# Plot for  P\n",
    "plt.figure(figsize=(10, 5))\n",
    "plt.subplot(1, 2, 1)  # 1 row, 2 columns, subplot 1\n",
    "plt.scatter(P[:, 0], P[:, 1], color='red')\n",
    "plt.title('2D Plot for Rows of P')\n",
    "plt.xlabel('Factor 1')\n",
    "plt.ylabel('Factor 2')\n",
    "\n",
    "# Plot for Q\n",
    "plt.subplot(1, 2, 2)  # 1 row, 2 columns, subplot 2\n",
    "plt.scatter(Q[:, 0], Q[:, 1], color='blue')\n",
    "plt.title('2D Plot for Rows of Q')\n",
    "plt.xlabel('Factor 1')\n",
    "plt.ylabel('Factor 2')\n",
    "\n",
    "plt.tight_layout()\n",
    "plt.show()"
   ]
  },
  {
   "cell_type": "markdown",
   "id": "042d5679-2099-4e4e-8abe-58d4f789766c",
   "metadata": {},
   "source": [
    "**Interpretation:**\n",
    "\n",
    "P matrix shows the features in the users, while Q matrix shows the features in the items (movies). For the User matrix we see that there is 1 main trend which is a cloud that gos from high in the factor 2 to low, while it goes to low in factor 1 to high. But there is a point in the lower left quadrant that seems to be different from all other points. Maybe this persons rated the movies in a very adverse way to the average movie rating and that is why this point is alone there. We can also se a linear negative relationship between both factors, indicating that there is people who are more prone to factor 1 while this makes less prone to factor 2 and voce-versa. As for the Q plot, we see the item (movies) factors. Apparently there is no clear clustering or relation between factor 1 and 2 in this matrix. There is also one single point in the upper left quadrant and all the other points seem to form a bigger random cloud. We could also force a line that tells us that there is a linear positive relationship between the two factors in Q\n",
    ", meaning that the more 1 factor is present in the movies, the more the other factor is. Also there are two movies that are far from the rest, this could be because they have very low ratings while the others have good ratings on average"
   ]
  }
 ],
 "metadata": {
  "kernelspec": {
   "display_name": "Python 3 (ipykernel)",
   "language": "python",
   "name": "python3"
  },
  "language_info": {
   "codemirror_mode": {
    "name": "ipython",
    "version": 3
   },
   "file_extension": ".py",
   "mimetype": "text/x-python",
   "name": "python",
   "nbconvert_exporter": "python",
   "pygments_lexer": "ipython3",
   "version": "3.11.5"
  }
 },
 "nbformat": 4,
 "nbformat_minor": 5
}
